{
 "cells": [
  {
   "attachments": {},
   "cell_type": "markdown",
   "id": "3c443ab7-70ce-42d6-9884-2708b2651614",
   "metadata": {},
   "source": [
    "# InstaCart"
   ]
  },
  {
   "attachments": {},
   "cell_type": "markdown",
   "id": "3c80ab96",
   "metadata": {},
   "source": [
    "### Overview\n",
    "\n",
    "* Import Python Libraries\n",
    "* Establish Secure Connection\n",
    "* Ingest Data from CSV files\n",
    "  * Upload data to Snowflake Stages\n",
    "  * Load data from Snowflake Stages into Snowpark DataFrames\n",
    "  * Write Data from Snowpark DataFrames into Snowflake Tables\n",
    "* Perform Exploratory Data Anaysis using Snowpark DataFrames\n",
    "* Write Transformed Data in Snowflake Table\n",
    "* Visualize Data using Pandas DataFrames\n"
   ]
  },
  {
   "attachments": {},
   "cell_type": "markdown",
   "id": "f302ac2f",
   "metadata": {},
   "source": [
    "### Import Python Libraries"
   ]
  },
  {
   "cell_type": "code",
   "execution_count": 8,
   "id": "c9d57b21-7720-40a0-9a95-8431e0dd1e22",
   "metadata": {},
   "outputs": [],
   "source": [
    "# Snowpark\n",
    "from snowflake.snowpark.session import Session\n",
    "from snowflake.snowpark.types import IntegerType, StringType, StructType, FloatType, StructField, DateType, Variant\n",
    "from snowflake.snowpark.functions import udf, count, avg, sum, col,lit,listagg,call_builtin,when,count_distinct,array_agg,array_construct,call_udf,sproc,lower\n",
    "from snowflake.snowpark.version import VERSION\n",
    "\n",
    "# Misc\n",
    "import pandas as pd\n",
    "import json\n",
    "import altair as alt\n",
    "import logging \n",
    "logger = logging.getLogger(\"snowflake.snowpark.session\")\n",
    "logger.setLevel(logging.ERROR)\n",
    "\n",
    "# For AWS Secrets Manager\n",
    "import boto3\n",
    "from botocore.exceptions import ClientError"
   ]
  },
  {
   "attachments": {},
   "cell_type": "markdown",
   "id": "fb72f258-f220-4bf8-9f77-6f0fc05df328",
   "metadata": {},
   "source": [
    "### Establish Secure Connection to Snowflake using AWS Secrets Manager\n",
    "\n",
    "*NOTE: Other options include loading credentials from a file (for example, connection.json), Okta, SSO, MFA*"
   ]
  },
  {
   "cell_type": "code",
   "execution_count": 4,
   "id": "0defcbba-9ae1-4d1e-a44a-28b26cb837d8",
   "metadata": {},
   "outputs": [
    {
     "name": "stdout",
     "output_type": "stream",
     "text": [
      "Role                        : ACCOUNTADMIN\n",
      "Warehouse                   : DASH_S\n",
      "Database                    : DASH_DB\n",
      "Schema                      : DASH_SCHEMA\n",
      "Snowflake version           : 7.8.1\n",
      "Snowpark for Python version : 1.0.0\n"
     ]
    }
   ],
   "source": [
    "# Load Snowflake connection details from AWS Secrets Manager\n",
    "def get_aws_sf_connection_details(secret_name,region_name):\n",
    "    \n",
    "    # Create a Secrets Manager boto3 client\n",
    "    boto3_session = boto3.session.Session()\n",
    "    client = boto3_session.client(service_name='secretsmanager',region_name=region_name)\n",
    "    \n",
    "    get_secret_value_response = None\n",
    "\n",
    "    try:\n",
    "        # Get secret values(s) based on the passed in secret name\n",
    "        get_secret_value_response = client.get_secret_value(SecretId=secret_name)['SecretString']\n",
    "    except ClientError as e:\n",
    "        if e.response['Error']['Code'] == 'DecryptionFailureException':\n",
    "            # Secrets Manager can't decrypt the protected secret text using the provided KMS key.\n",
    "            raise e\n",
    "        elif e.response['Error']['Code'] == 'InternalServiceErrorException':\n",
    "            # An error occurred on the server side.\n",
    "            raise e\n",
    "        elif e.response['Error']['Code'] == 'InvalidParameterException':\n",
    "            # You provided an invalid value for a parameter.\n",
    "            raise e\n",
    "        elif e.response['Error']['Code'] == 'InvalidRequestException':\n",
    "            # You provided a parameter value that is not valid for the current state of the resource.\n",
    "            raise e\n",
    "        elif e.response['Error']['Code'] == 'ResourceNotFoundException':\n",
    "            # We can't find the resource that you asked for.\n",
    "            raise e\n",
    "\n",
    "    return get_secret_value_response\n",
    "        \n",
    "# Create Snowflake Session object\n",
    "connection_parameters = json.loads(get_aws_sf_connection_details('dash-sfdevrel-connection','us-west-2'))\n",
    "# connection_parameters['authenticator'] = 'username_password_mfa'\n",
    "session = Session.builder.configs(connection_parameters).create()\n",
    "\n",
    "snowflake_environment = session.sql('select current_role(), current_warehouse(), current_database(), current_schema(), current_version()').collect()\n",
    "snowpark_version = VERSION\n",
    "\n",
    "# Current Environment Details\n",
    "print('Role                        : {}'.format(snowflake_environment[0][0]))\n",
    "print('Warehouse                   : {}'.format(snowflake_environment[0][1]))\n",
    "print('Database                    : {}'.format(snowflake_environment[0][2]))\n",
    "print('Schema                      : {}'.format(snowflake_environment[0][3]))\n",
    "print('Snowflake version           : {}'.format(snowflake_environment[0][4]))\n",
    "print('Snowpark for Python version : {}.{}.{}'.format(snowpark_version[0],snowpark_version[1],snowpark_version[2]))"
   ]
  },
  {
   "attachments": {},
   "cell_type": "markdown",
   "id": "8800d009",
   "metadata": {},
   "source": [
    "### Ingest Data"
   ]
  },
  {
   "attachments": {},
   "cell_type": "markdown",
   "id": "b2f7d575",
   "metadata": {},
   "source": [
    "#### Upload data in CSV fies onto Snowflake Stage\n",
    "\n",
    "*NOTE: This is a one-time operation that can also be performed using SnowSQL.*"
   ]
  },
  {
   "cell_type": "code",
   "execution_count": 5,
   "id": "babec9e8",
   "metadata": {},
   "outputs": [
    {
     "data": {
      "text/plain": [
       "[PutResult(source='order_products__prior.csv', target='order_products__prior.csv', source_size=577550706, target_size=577550720, source_compression='NONE', target_compression='NONE', status='UPLOADED', message='')]"
      ]
     },
     "execution_count": 5,
     "metadata": {},
     "output_type": "execute_result"
    }
   ],
   "source": [
    "# session.file.put(\"../Data/instacart-market-basket-analysis/order_products__prior.csv\",stage_location=\"@dash_files\",overwrite=True,auto_compress=False)\n",
    "# session.file.put(\"../Data/instacart-market-basket-analysis/aisles.csv\",stage_location=\"@dash_files\",overwrite=True,auto_compress=False)\n",
    "# session.file.put(\"../Data/instacart-market-basket-analysis/departments.csv\",stage_location=\"@dash_files\",overwrite=True,auto_compress=False)\n",
    "# session.file.put(\"../Data/instacart-market-basket-analysis/products.csv\",stage_location=\"@dash_files\",overwrite=True,auto_compress=False)\n",
    "# session.file.put(\"../Data/instacart-market-basket-analysis/orders.csv\",stage_location=\"@dash_files\",overwrite=True,auto_compress=False)\n",
    "# session.file.put(\"../Data/instacart-market-basket-analysis/order_products__train.csv\",stage_location=\"@dash_files\",overwrite=True,auto_compress=False)"
   ]
  },
  {
   "attachments": {},
   "cell_type": "markdown",
   "id": "82e41458",
   "metadata": {},
   "source": [
    "#### Read data from Snowflake Stages and load it into Snowpark DataFrames"
   ]
  },
  {
   "attachments": {},
   "cell_type": "markdown",
   "id": "40f93112",
   "metadata": {},
   "source": [
    "##### Aisles"
   ]
  },
  {
   "cell_type": "code",
   "execution_count": 4,
   "id": "50f01420-b79e-4d27-b035-8fb9aaa99507",
   "metadata": {},
   "outputs": [
    {
     "name": "stdout",
     "output_type": "stream",
     "text": [
      "-------------------------------------------\n",
      "|\"AISLE_ID\"  |\"AISLE\"                     |\n",
      "-------------------------------------------\n",
      "|1           |prepared soups salads       |\n",
      "|2           |specialty cheeses           |\n",
      "|3           |energy granola bars         |\n",
      "|4           |instant foods               |\n",
      "|5           |marinades meat preparation  |\n",
      "|6           |other                       |\n",
      "|7           |packaged meat               |\n",
      "|8           |bakery desserts             |\n",
      "|9           |pasta sauce                 |\n",
      "|10          |kitchen supplies            |\n",
      "-------------------------------------------\n",
      "\n"
     ]
    }
   ],
   "source": [
    "aisles_schema = StructType([StructField(\"aisle_id\", IntegerType()), StructField(\"aisle\", StringType())])\n",
    "aisles = session.read.options({\"skip_header\": 1}).schema(aisles_schema).csv(\"@dash_files/aisles.csv\")\n",
    "aisles.show()"
   ]
  },
  {
   "attachments": {},
   "cell_type": "markdown",
   "id": "031684c2",
   "metadata": {},
   "source": [
    "##### Departments"
   ]
  },
  {
   "cell_type": "code",
   "execution_count": 6,
   "id": "1bb1f0be",
   "metadata": {},
   "outputs": [
    {
     "name": "stdout",
     "output_type": "stream",
     "text": [
      "-------------------------------------\n",
      "|\"DEPARTMENT_ID\"  |\"DEPARTMENT\"     |\n",
      "-------------------------------------\n",
      "|1                |frozen           |\n",
      "|2                |other            |\n",
      "|3                |bakery           |\n",
      "|4                |produce          |\n",
      "|5                |alcohol          |\n",
      "|6                |international    |\n",
      "|7                |beverages        |\n",
      "|8                |pets             |\n",
      "|9                |dry goods pasta  |\n",
      "|10               |bulk             |\n",
      "-------------------------------------\n",
      "\n"
     ]
    }
   ],
   "source": [
    "departments_schema = StructType([StructField(\"department_id\", IntegerType()), StructField(\"department\", StringType())])\n",
    "departments = session.read.options({\"skip_header\": 1}).schema(departments_schema).csv(\"@dash_files/departments.csv\")\n",
    "departments.show()"
   ]
  },
  {
   "attachments": {},
   "cell_type": "markdown",
   "id": "3f99f702",
   "metadata": {},
   "source": [
    "##### Order Products (Historical set)"
   ]
  },
  {
   "cell_type": "code",
   "execution_count": 7,
   "id": "d41a7810",
   "metadata": {},
   "outputs": [
    {
     "name": "stdout",
     "output_type": "stream",
     "text": [
      "-----------------------------------------------------------------\n",
      "|\"ORDER_ID\"  |\"PRODUCT_ID\"  |\"ADD_TO_CART_ORDER\"  |\"REORDERED\"  |\n",
      "-----------------------------------------------------------------\n",
      "|2           |33120         |1                    |1            |\n",
      "|2           |28985         |2                    |1            |\n",
      "|2           |9327          |3                    |0            |\n",
      "|2           |45918         |4                    |1            |\n",
      "|2           |30035         |5                    |0            |\n",
      "|2           |17794         |6                    |1            |\n",
      "|2           |40141         |7                    |1            |\n",
      "|2           |1819          |8                    |1            |\n",
      "|2           |43668         |9                    |0            |\n",
      "|3           |33754         |1                    |1            |\n",
      "-----------------------------------------------------------------\n",
      "\n"
     ]
    }
   ],
   "source": [
    "# order_id,product_id,add_to_cart_order,reordered\n",
    "order_products_prior_schema = StructType([StructField(\"order_id\", IntegerType()), StructField(\"product_id\", IntegerType()),StructField(\"add_to_cart_order\", IntegerType()), StructField(\"reordered\", IntegerType())])\n",
    "order_products_prior = session.read.options({\"skip_header\": 1}).schema(order_products_prior_schema).csv(\"@dash_files/order_products__prior.csv\")\n",
    "order_products_prior.show()"
   ]
  },
  {
   "attachments": {},
   "cell_type": "markdown",
   "id": "88618107",
   "metadata": {},
   "source": [
    "##### Order Products (Training set)"
   ]
  },
  {
   "cell_type": "code",
   "execution_count": 8,
   "id": "7ab28f04",
   "metadata": {},
   "outputs": [
    {
     "name": "stdout",
     "output_type": "stream",
     "text": [
      "-----------------------------------------------------------------\n",
      "|\"ORDER_ID\"  |\"PRODUCT_ID\"  |\"ADD_TO_CART_ORDER\"  |\"REORDERED\"  |\n",
      "-----------------------------------------------------------------\n",
      "|1           |49302         |1                    |1            |\n",
      "|1           |11109         |2                    |1            |\n",
      "|1           |10246         |3                    |0            |\n",
      "|1           |49683         |4                    |0            |\n",
      "|1           |43633         |5                    |1            |\n",
      "|1           |13176         |6                    |0            |\n",
      "|1           |47209         |7                    |0            |\n",
      "|1           |22035         |8                    |1            |\n",
      "|36          |39612         |1                    |0            |\n",
      "|36          |19660         |2                    |1            |\n",
      "-----------------------------------------------------------------\n",
      "\n"
     ]
    }
   ],
   "source": [
    "# order_id,product_id,add_to_cart_order,reordered\n",
    "order_products_train_schema = StructType([StructField(\"order_id\", IntegerType()), StructField(\"product_id\", IntegerType()),StructField(\"add_to_cart_order\", IntegerType()), StructField(\"reordered\", IntegerType())])\n",
    "order_products_train = session.read.options({\"skip_header\": 1}).schema(order_products_train_schema).csv(\"@dash_files/order_products__train.csv\")\n",
    "order_products_train.show()"
   ]
  },
  {
   "attachments": {},
   "cell_type": "markdown",
   "id": "73ac190c",
   "metadata": {},
   "source": [
    "##### Orders"
   ]
  },
  {
   "cell_type": "code",
   "execution_count": 9,
   "id": "382cb7af",
   "metadata": {},
   "outputs": [
    {
     "name": "stdout",
     "output_type": "stream",
     "text": [
      "-----------------------------------------------------------------------------------------------------------------------\n",
      "|\"ORDER_ID\"  |\"USER_ID\"  |\"EVAL_SET\"  |\"ORDER_NUMBER\"  |\"ORDER_DOW\"  |\"ORDER_HOUR_OF_DAY\"  |\"DAYS_SINCE_PRIOR_ORDER\"  |\n",
      "-----------------------------------------------------------------------------------------------------------------------\n",
      "|2539329     |1          |prior       |1               |2            |08                   |NULL                      |\n",
      "|2398795     |1          |prior       |2               |3            |07                   |15.0                      |\n",
      "|473747      |1          |prior       |3               |3            |12                   |21.0                      |\n",
      "|2254736     |1          |prior       |4               |4            |07                   |29.0                      |\n",
      "|431534      |1          |prior       |5               |4            |15                   |28.0                      |\n",
      "|3367565     |1          |prior       |6               |2            |07                   |19.0                      |\n",
      "|550135      |1          |prior       |7               |1            |09                   |20.0                      |\n",
      "|3108588     |1          |prior       |8               |1            |14                   |14.0                      |\n",
      "|2295261     |1          |prior       |9               |1            |16                   |0.0                       |\n",
      "|2550362     |1          |prior       |10              |4            |08                   |30.0                      |\n",
      "-----------------------------------------------------------------------------------------------------------------------\n",
      "\n"
     ]
    }
   ],
   "source": [
    "# order_id,user_id,eval_set,order_number,order_dow,order_hour_of_day,days_since_prior_order\n",
    "# 2539329,1,prior,1,2,08,\n",
    "# 2398795,1,train,2,3,07,15.0\n",
    "# 473747,1,prior,3,3,12,21.0\n",
    "# 2254736,1,test,4,4,07,29.0\n",
    "\n",
    "orders_schema = StructType(\n",
    "    [StructField(\"order_id\", IntegerType()), \n",
    "    StructField(\"user_id\", IntegerType()),\n",
    "    StructField(\"eval_set\", StringType()),\n",
    "    StructField(\"order_number\", IntegerType()),\n",
    "    StructField(\"order_dow\", IntegerType()),\n",
    "    StructField(\"order_hour_of_day\", StringType()),\n",
    "    StructField(\"days_since_prior_order\", FloatType())\n",
    "    ])\n",
    "orders = session.read.options({\"skip_header\": 1}).schema(orders_schema).csv(\"@dash_files/orders.csv\")\n",
    "orders.show()"
   ]
  },
  {
   "attachments": {},
   "cell_type": "markdown",
   "id": "51434f1e",
   "metadata": {},
   "source": [
    "##### Products\n",
    "\n",
    "*TIP: The use of FIELD_OPTIONALLY_ENCLOSED_BY parameter below makes ingesting Product records where the name might include double-quotes really easy without having to add an extra preprocessing step to handle / remove the double-quotes.*"
   ]
  },
  {
   "cell_type": "code",
   "execution_count": 10,
   "id": "95f7e42c",
   "metadata": {},
   "outputs": [
    {
     "name": "stdout",
     "output_type": "stream",
     "text": [
      "----------------------------------------------------------------------------------------------------\n",
      "|\"PRODUCT_ID\"  |\"PRODUCT_NAME\"                                      |\"AISLE_ID\"  |\"DEPARTMENT_ID\"  |\n",
      "----------------------------------------------------------------------------------------------------\n",
      "|1             |Chocolate Sandwich Cookies                          |61          |19               |\n",
      "|2             |All-Seasons Salt                                    |104         |13               |\n",
      "|3             |Robust Golden Unsweetened Oolong Tea                |94          |7                |\n",
      "|4             |Smart Ones Classic Favorites Mini Rigatoni With...  |38          |1                |\n",
      "|5             |Green Chile Anytime Sauce                           |5           |13               |\n",
      "|6             |Dry Nose Oil                                        |11          |11               |\n",
      "|7             |Pure Coconut Water With Orange                      |98          |7                |\n",
      "|8             |Cut Russet Potatoes Steam N' Mash                   |116         |1                |\n",
      "|9             |Light Strawberry Blueberry Yogurt                   |120         |16               |\n",
      "|10            |Sparkling Orange Juice & Prickly Pear Beverage      |115         |7                |\n",
      "----------------------------------------------------------------------------------------------------\n",
      "\n"
     ]
    }
   ],
   "source": [
    "# product_id,product_name,aisle_id,department_id\n",
    "# 1,Chocolate Sandwich Cookies,61,19\n",
    "# 2,All-Seasons Salt,104,13\n",
    "# 3,Robust Golden Unsweetened Oolong Tea,94,7\n",
    "# 4,\"Smart Ones Classic Favorites, Mini Rigatoni With Vodka Cream Sauce\",38,1\n",
    "# 5,Green Chile Anytime Sauce,5,13\n",
    "\n",
    "products_schema = StructType(\n",
    "    [StructField(\"product_id\", IntegerType()), \n",
    "    StructField(\"product_name\", StringType()),\n",
    "    StructField(\"aisle_id\", IntegerType()),\n",
    "    StructField(\"department_id\", IntegerType())\n",
    "    ])\n",
    "products = session.read.options({\"skip_header\": 1, \"FIELD_OPTIONALLY_ENCLOSED_BY\": '\"'}).schema(products_schema).csv(\"@dash_files/products.csv\")\n",
    "products.show()"
   ]
  },
  {
   "attachments": {},
   "cell_type": "markdown",
   "id": "220dfa86",
   "metadata": {},
   "source": [
    "#### Write Data from Snowpark DataFrames into Snowflake tables\n",
    "\n",
    "*NOTE: Writing data is a one-time operation. Once the data is loaded into Snowflake tables, it can be easily loaded into Snowpark DataFrames as shown below in the next section.*"
   ]
  },
  {
   "cell_type": "code",
   "execution_count": null,
   "id": "e7629bf8",
   "metadata": {},
   "outputs": [],
   "source": [
    "# aisles.copy_into_table('insta_aisles') \n",
    "# departments.copy_into_table('insta_departments')\n",
    "# order_products_prior.copy_into_table('insta_order_products_prior')\n",
    "# order_products_train.copy_into_table('insta_order_products_train')\n",
    "# orders.copy_into_table('insta_orders')\n",
    "# products.copy_into_table('insta_products')"
   ]
  },
  {
   "attachments": {},
   "cell_type": "markdown",
   "id": "911755f7",
   "metadata": {},
   "source": [
    "### Exploratory Data Analysis using Snowpark DataFrames"
   ]
  },
  {
   "cell_type": "markdown",
   "id": "26997f7e",
   "metadata": {},
   "source": [
    "#### Load data from Snowflake tables into Snowpark DataFrames"
   ]
  },
  {
   "cell_type": "code",
   "execution_count": 5,
   "id": "b5dbccd3",
   "metadata": {},
   "outputs": [],
   "source": [
    "aisles = session.table('insta_aisles')\n",
    "departments = session.table('insta_departments')\n",
    "order_products_prior = session.table('insta_order_products_prior')\n",
    "order_products_train = session.table('insta_order_products_train')\n",
    "orders = session.table('insta_orders')\n",
    "products = session.table('insta_products')"
   ]
  },
  {
   "attachments": {},
   "cell_type": "markdown",
   "id": "7d4628ae",
   "metadata": {},
   "source": [
    "#### Busiest day of the week"
   ]
  },
  {
   "cell_type": "code",
   "execution_count": 4,
   "id": "45443a21-5030-4d1e-ab2d-19c5b69ba2bb",
   "metadata": {},
   "outputs": [
    {
     "name": "stdout",
     "output_type": "stream",
     "text": [
      "------------------------------\n",
      "|\"DOW\"      |\"TOTAL_ORDERS\"  |\n",
      "------------------------------\n",
      "|Sunday     |600905          |\n",
      "|Monday     |587478          |\n",
      "|Tuesday    |467260          |\n",
      "|Friday     |453368          |\n",
      "|Saturday   |448761          |\n",
      "|Wednesday  |436972          |\n",
      "|Thursday   |426339          |\n",
      "------------------------------\n",
      "\n"
     ]
    }
   ],
   "source": [
    "sf_busiest_dow = orders.group_by('order_dow') \\\n",
    "        .agg(count('order_id').as_('total_orders')) \\\n",
    "        .sort('total_orders',ascending=False) \\\n",
    "        .select(when(col('order_dow') == 0,'Sunday').\n",
    "                when(col('order_dow') == 1,'Monday').\n",
    "                when(col('order_dow') == 2,'Tuesday').\n",
    "                when(col('order_dow') == 3,'Wednesday').\n",
    "                when(col('order_dow') == 4,'Thursday').\n",
    "                when(col('order_dow') == 5,'Friday').\n",
    "                otherwise('Saturday').as_('DOW'),\n",
    "                'total_orders')\n",
    "sf_busiest_dow.show()"
   ]
  },
  {
   "attachments": {},
   "cell_type": "markdown",
   "id": "bbc5fcd1",
   "metadata": {},
   "source": [
    "#### Breakdown of Orders by Hour of the Day"
   ]
  },
  {
   "cell_type": "code",
   "execution_count": 5,
   "id": "c2c73b89-b83c-4913-b0b9-30bc9d16bee4",
   "metadata": {},
   "outputs": [
    {
     "name": "stdout",
     "output_type": "stream",
     "text": [
      "----------------------------------------\n",
      "|\"ORDER_HOUR_OF_DAY\"  |\"TOTAL_ORDERS\"  |\n",
      "----------------------------------------\n",
      "|00                   |22758           |\n",
      "|01                   |12398           |\n",
      "|02                   |7539            |\n",
      "|03                   |5474            |\n",
      "|04                   |5527            |\n",
      "|05                   |9569            |\n",
      "|06                   |30529           |\n",
      "|07                   |91868           |\n",
      "|08                   |178201          |\n",
      "|09                   |257812          |\n",
      "|10                   |288418          |\n",
      "|11                   |284728          |\n",
      "|12                   |272841          |\n",
      "|13                   |277999          |\n",
      "|14                   |283042          |\n",
      "|15                   |283639          |\n",
      "|16                   |272553          |\n",
      "|17                   |228795          |\n",
      "|18                   |182912          |\n",
      "|19                   |140569          |\n",
      "|20                   |104292          |\n",
      "|21                   |78109           |\n",
      "|22                   |61468           |\n",
      "|23                   |40043           |\n",
      "----------------------------------------\n",
      "\n"
     ]
    }
   ],
   "source": [
    "sf_orders_by_hour = orders.group_by('order_hour_of_day') \\\n",
    "        .agg(count('order_id').as_('total_orders')) \\\n",
    "        .sort('order_hour_of_day',ascending=True)\n",
    "sf_orders_by_hour.show(24)"
   ]
  },
  {
   "attachments": {},
   "cell_type": "markdown",
   "id": "0b328e57",
   "metadata": {},
   "source": [
    "#### Top 10 Popular Items"
   ]
  },
  {
   "cell_type": "code",
   "execution_count": 6,
   "id": "ac100e5a-98d4-4366-a842-0beb54ab01de",
   "metadata": {},
   "outputs": [
    {
     "name": "stdout",
     "output_type": "stream",
     "text": [
      "-------------------------------------------\n",
      "|\"PRODUCT_NAME\"          |\"TOTAL_ORDERS\"  |\n",
      "-------------------------------------------\n",
      "|Banana                  |472565          |\n",
      "|Bag of Organic Bananas  |379450          |\n",
      "|Organic Strawberries    |264683          |\n",
      "|Organic Baby Spinach    |241921          |\n",
      "|Organic Hass Avocado    |213584          |\n",
      "|Organic Avocado         |176815          |\n",
      "|Large Lemon             |152657          |\n",
      "|Strawberries            |142951          |\n",
      "|Limes                   |140627          |\n",
      "|Organic Whole Milk      |137905          |\n",
      "-------------------------------------------\n",
      "\n"
     ]
    }
   ],
   "source": [
    "sf_top_10_items = order_products_prior.join(products,['product_id']) \\\n",
    "    .group_by('product_name') \\\n",
    "    .agg(count('order_id').as_('total_orders')) \\\n",
    "    .sort('total_orders',ascending=False).limit(10)\n",
    "sf_top_10_items.show()"
   ]
  },
  {
   "attachments": {},
   "cell_type": "markdown",
   "id": "4e4ca187",
   "metadata": {},
   "source": [
    "#### Shelf Space by Department"
   ]
  },
  {
   "cell_type": "code",
   "execution_count": 16,
   "id": "03f66c00-83d4-4545-9aff-89b6a85f7f5c",
   "metadata": {},
   "outputs": [
    {
     "name": "stdout",
     "output_type": "stream",
     "text": [
      "-----------------------------------------------\n",
      "|\"DEPARTMENT\"     |\"TOTAL_DISTINCT_PRODUCTS\"  |\n",
      "-----------------------------------------------\n",
      "|personal care    |6563                       |\n",
      "|snacks           |6264                       |\n",
      "|pantry           |5371                       |\n",
      "|beverages        |4365                       |\n",
      "|frozen           |4007                       |\n",
      "|dairy eggs       |3449                       |\n",
      "|household        |3085                       |\n",
      "|canned goods     |2092                       |\n",
      "|dry goods pasta  |1858                       |\n",
      "|produce          |1684                       |\n",
      "-----------------------------------------------\n",
      "\n"
     ]
    }
   ],
   "source": [
    "sf_shelf_space_by_dept = products.join(departments,['department_id'],join_type='inner') \\\n",
    "    .group_by('department') \\\n",
    "    .agg(count_distinct('product_id').as_('total_distinct_products')) \\\n",
    "    .sort('total_distinct_products',ascending=False).limit(10)\n",
    "sf_shelf_space_by_dept.show()"
   ]
  },
  {
   "attachments": {},
   "cell_type": "markdown",
   "id": "a9f4913b-119f-4150-a8a8-a8795031728b",
   "metadata": {},
   "source": [
    "#### Prepare Data for Frequent Pattern Matching"
   ]
  },
  {
   "cell_type": "code",
   "execution_count": 7,
   "id": "d9b66e52",
   "metadata": {},
   "outputs": [
    {
     "name": "stdout",
     "output_type": "stream",
     "text": [
      "-------------------------------------------------------------------\n",
      "|\"ORDER_ID\"  |\"ITEMS\"                                             |\n",
      "-------------------------------------------------------------------\n",
      "|2415        |[                                                   |\n",
      "|            |  \"Organic Strawberries\",                           |\n",
      "|            |  \"Banana\",                                         |\n",
      "|            |  \"Small Hass Avocado\",                             |\n",
      "|            |  \"Asparagus\",                                      |\n",
      "|            |  \"Honey Nut Cheerios\",                             |\n",
      "|            |  \"Luden's Throat Drops Wild Cherry\"                |\n",
      "|            |]                                                   |\n",
      "|2191        |[                                                   |\n",
      "|            |  \"Organic Baby Carrots\",                           |\n",
      "|            |  \"Gluten Free White Sandwich Bread\",               |\n",
      "|            |  \"Organic Spring Mix\",                             |\n",
      "|            |  \"Organic Grade A Free Range Large Brown Eggs\",    |\n",
      "|            |  \"Hint Of Sea Salt Almond Nut Thins\",              |\n",
      "|            |  \"Chicken Tenders\",                                |\n",
      "|            |  \"Pure Organic Pineapple Juice\",                   |\n",
      "|            |  \"Organic Raw Kombucha Gingerade\"                  |\n",
      "|            |]                                                   |\n",
      "|3957        |[                                                   |\n",
      "|            |  \"Strawberry Milk\",                                |\n",
      "|            |  \"Lowfat Milk\",                                    |\n",
      "|            |  \"Honey Wheat Enriched Bread\",                     |\n",
      "|            |  \"Mild Sliced Cheddar Cheese\",                     |\n",
      "|            |  \"Grade A Large Eggs Cage Free Omega 3\",           |\n",
      "|            |  \"Organic Chicken Nuggets\",                        |\n",
      "|            |  \"Honeycrisp Apple\",                               |\n",
      "|            |  \"Banana\",                                         |\n",
      "|            |  \"Sweet Onions\",                                   |\n",
      "|            |  \"Bunched Cilantro\",                               |\n",
      "|            |  \"Flat Parsley, Bunch\",                            |\n",
      "|            |  \"Organic Chicken & Apple Sausage\",                |\n",
      "|            |  \"Crispy Cheddar Crackers\",                        |\n",
      "|            |  \"Honey Graham Sticks\",                            |\n",
      "|            |  \"Red Raspberries\",                                |\n",
      "|            |  \"Strawberries\",                                   |\n",
      "|            |  \"Organic YoBaby Vanilla Yogurt\",                  |\n",
      "|            |  \"Mini Cucumbers\",                                 |\n",
      "|            |  \"Grapefruit Sparkling Water\",                     |\n",
      "|            |  \"Snack Pack Classic Original Hommus With Chips\",  |\n",
      "|            |  \"Goodness Grapeness Organic Juice Drink\",         |\n",
      "|            |  \"Organics Vitamin C Fortified 100% Apple Juice\",  |\n",
      "|            |  \"Organic Baby Spinach\",                           |\n",
      "|            |  \"Organic Baby Arugula\",                           |\n",
      "|            |  \"Organic Whole Cashews\",                          |\n",
      "|            |  \"Organic Cinnamon Crunch Cereal\"                  |\n",
      "|            |]                                                   |\n",
      "|4011        |[                                                   |\n",
      "|            |  \"Organic Whole Milk\",                             |\n",
      "|            |  \"Four Cheese Pasta Sauce\",                        |\n",
      "|            |  \"Organic Zucchini\",                               |\n",
      "|            |  \"Organic Baby Carrots\",                           |\n",
      "|            |  \"Organic Sliced White Mushrooms\",                 |\n",
      "|            |  \"Reduced Fat Chocolate Milk\",                     |\n",
      "|            |  \"Chocolate Chip With Vanilla Bean Ice Cream\",     |\n",
      "|            |  \"Sunny Days Strawberry Snack Bars\",               |\n",
      "|            |  \"Organic Apple Juice Boxes\"                       |\n",
      "|            |]                                                   |\n",
      "|2445        |[                                                   |\n",
      "|            |  \"Strawberry Ice Cream\",                           |\n",
      "|            |  \"Organic Strawana Probugs Kefir\",                 |\n",
      "|            |  \"Gogo Squeez Organic Apple Strawberry Applesa...  |\n",
      "|            |  \"Organic Whole String Cheese\",                    |\n",
      "|            |  \"Hass Avocado\",                                   |\n",
      "|            |  \"Dubliner Wedge Pre Cut Cheese\",                  |\n",
      "|            |  \"Grated Parmesan\",                                |\n",
      "|            |  \"Limeade\",                                        |\n",
      "|            |  \"Cheese Puffs Original\",                          |\n",
      "|            |  \"Orange Juice\",                                   |\n",
      "|            |  \"Spaghetti\",                                      |\n",
      "|            |  \"Organic Baby Arugula\",                           |\n",
      "|            |  \"Organic Baby Carrots\",                           |\n",
      "|            |  \"Sea Salt Pita Chips\",                            |\n",
      "|            |  \"Soup, Traditional, with Tofu\",                   |\n",
      "|            |  \"Almond Nut & Rice Cracker Snacks\",               |\n",
      "|            |  \"Hummus, Hope, Original Recipe\",                  |\n",
      "|            |  \"Extra Cheesy Cheddar Bunnies Crackers\",          |\n",
      "|            |  \"Tomato Kumato\",                                  |\n",
      "|            |  \"Feta Cheese Crumbles\",                           |\n",
      "|            |  \"Marinated Cabecou\",                              |\n",
      "|            |  \"Organic English Cucumber\",                       |\n",
      "|            |  \"Villagio Marzano Heavenly Tomatoes\",             |\n",
      "|            |  \"Organic Italian Parsley Bunch\",                  |\n",
      "|            |  \"Cucumber & Garlic  Tzatziki\",                    |\n",
      "|            |  \"Organic Smoked Paprika\",                         |\n",
      "|            |  \"Organic Paprika\",                                |\n",
      "|            |  \"Organic Cayenne Pepper\",                         |\n",
      "|            |  \"Seedless Red Grapes\",                            |\n",
      "|            |  \"Meyer Lemon\",                                    |\n",
      "|            |  \"Bag of Organic Bananas\",                         |\n",
      "|            |  \"Crispy Seasoned Potato Puffs with Roasted Ga...  |\n",
      "|            |  \"Vegetable Fried Rice\",                           |\n",
      "|            |  \"Medium Cheddar Cheese\",                          |\n",
      "|            |  \"Organic Garlic\",                                 |\n",
      "|            |  \"Red Peppers\"                                     |\n",
      "|            |]                                                   |\n",
      "|4203        |[                                                   |\n",
      "|            |  \"Healthy Request Harvest Tomato with Basil So...  |\n",
      "|            |  \"Carrots, Bag\",                                   |\n",
      "|            |  \"Fat Free Strawberry Yogurt\",                     |\n",
      "|            |  \"Healthy Request Spicy Vegetable Chili Soup\",     |\n",
      "|            |  \"96% Lean Ground Beef\",                           |\n",
      "|            |  \"Sweet Butter Salad\",                             |\n",
      "|            |  \"Natural Finely Shredded Triple Cheddar Cheese\",  |\n",
      "|            |  \"Balanced Breaks Pepper Jack Natural Cheese H...  |\n",
      "|            |  \"Balanced Breaks Natural Sharp White Cheddar ...  |\n",
      "|            |  \"Smartfood White Cheddar Cheese Popcorn\",         |\n",
      "|            |  \"Mini Seedless Cucumbers\",                        |\n",
      "|            |  \"Party Flexible Straws\",                          |\n",
      "|            |  \"Classic White Square Dinner Plates\",             |\n",
      "|            |  \"Triple Zero Salted Caramel\",                     |\n",
      "|            |  \"Triple Zero Banana Creme Oikos Greek Yogurt\",    |\n",
      "|            |  \"Lite Sweet Vidalia Onion Dressing\",              |\n",
      "|            |  \"Wheat Hamburger Buns\"                            |\n",
      "|            |]                                                   |\n",
      "|4347        |[                                                   |\n",
      "|            |  \"Cream Cheese Spread\",                            |\n",
      "|            |  \"Ready-to-Bake 9 Inch Pie Crusts\",                |\n",
      "|            |  \"Organic Ground Turkey\",                          |\n",
      "|            |  \"Organic Orange Juice With Calcium & Vitamin D\",  |\n",
      "|            |  \"Bag of Organic Bananas\",                         |\n",
      "|            |  \"Organic Hass Avocado\",                           |\n",
      "|            |  \"Mayo Made With Avocado Oil\",                     |\n",
      "|            |  \"Organic Ketchup\",                                |\n",
      "|            |  \"Organic Sliced Crimini Mushrooms\",               |\n",
      "|            |  \"Organic Broccoli\",                               |\n",
      "|            |  \"Mini Quiche Florentine\",                         |\n",
      "|            |  \"Naked Green Machine Boosted Juice Smoothie\",     |\n",
      "|            |  \"100% Mighty Mango Juice Smoothie\",               |\n",
      "|            |  \"Organic Carrot Bunch\",                           |\n",
      "|            |  \"Free & Clear Stage 4 Overnight Diapers\",         |\n",
      "|            |  \"Free & Clear Size 4 Baby Diapers\",               |\n",
      "|            |  \"Everyday Coconut Body Lotion\",                   |\n",
      "|            |  \"Everyday Shea Unscented Body Wash\"               |\n",
      "|            |]                                                   |\n",
      "|4556        |[                                                   |\n",
      "|            |  \"Banana\",                                         |\n",
      "|            |  \"Authentic French Brioche\",                       |\n",
      "|            |  \"Organic Thompson Raisins\",                       |\n",
      "|            |  \"White Onion\"                                     |\n",
      "|            |]                                                   |\n",
      "|3010        |[                                                   |\n",
      "|            |  \"Pure Coconut Water\",                             |\n",
      "|            |  \"Organic Hass Avocado\",                           |\n",
      "|            |  \"Bag of Organic Bananas\",                         |\n",
      "|            |  \"Organic Low Sodium Chicken Broth\",               |\n",
      "|            |  \"Brown Eggs\",                                     |\n",
      "|            |  \"Organic Extra Virgin Olive Oil\",                 |\n",
      "|            |  \"Organic Reduced Fat 2% Milk\",                    |\n",
      "|            |  \"Organic Mini Sandwich Crackers Cheddar Cheese\"   |\n",
      "|            |]                                                   |\n",
      "|3405        |[                                                   |\n",
      "|            |  \"Goat Milk\",                                      |\n",
      "|            |  \"Organic Pasture Raised Brown Eggs\",              |\n",
      "|            |  \"Natural Vanilla Marshmallows\",                   |\n",
      "|            |  \"Almond Milk Peach Yogurt\",                       |\n",
      "|            |  \"Almond Milk Blueberry Yogurt\",                   |\n",
      "|            |  \"Naturally Smoked Trout Fillet\",                  |\n",
      "|            |  \"Traditional Scottish Style Smoked Salmon\",       |\n",
      "|            |  \"Organic Banana\",                                 |\n",
      "|            |  \"Grape White/Green Seedless\",                     |\n",
      "|            |  \"Cold-Pressed Organic Orange\"                     |\n",
      "|            |]                                                   |\n",
      "-------------------------------------------------------------------\n",
      "\n"
     ]
    }
   ],
   "source": [
    "sf_basket = products.join(order_products_train,['product_id'],join_type='inner') \\\n",
    "    .select('product_name','order_id') \\\n",
    "    .group_by('order_id') \\\n",
    "    .agg(array_agg('product_name').as_('items'))\n",
    "sf_basket.show()"
   ]
  },
  {
   "cell_type": "code",
   "execution_count": 9,
   "id": "2987b884",
   "metadata": {},
   "outputs": [],
   "source": [
    "@udf(session=session,name='to_lowercase',replace=True,is_permanent=True,stage_location='@dash_udfs')\n",
    "def to_lowercase(txt: str) -> str:\n",
    "    return txt.lower()"
   ]
  },
  {
   "cell_type": "code",
   "execution_count": 13,
   "id": "3fc272b6",
   "metadata": {},
   "outputs": [
    {
     "name": "stdout",
     "output_type": "stream",
     "text": [
      "-----------------------------------------------------------------------------------------------------------\n",
      "|\"PRODUCT_NAME\"                                      |\"PRODUCT_NAME_LOWERCASE\"                            |\n",
      "-----------------------------------------------------------------------------------------------------------\n",
      "|Chocolate Sandwich Cookies                          |chocolate sandwich cookies                          |\n",
      "|All-Seasons Salt                                    |all-seasons salt                                    |\n",
      "|Robust Golden Unsweetened Oolong Tea                |robust golden unsweetened oolong tea                |\n",
      "|Smart Ones Classic Favorites Mini Rigatoni With...  |smart ones classic favorites mini rigatoni with...  |\n",
      "|Green Chile Anytime Sauce                           |green chile anytime sauce                           |\n",
      "|Dry Nose Oil                                        |dry nose oil                                        |\n",
      "|Pure Coconut Water With Orange                      |pure coconut water with orange                      |\n",
      "|Cut Russet Potatoes Steam N' Mash                   |cut russet potatoes steam n' mash                   |\n",
      "|Light Strawberry Blueberry Yogurt                   |light strawberry blueberry yogurt                   |\n",
      "|Sparkling Orange Juice & Prickly Pear Beverage      |sparkling orange juice & prickly pear beverage      |\n",
      "-----------------------------------------------------------------------------------------------------------\n",
      "\n"
     ]
    }
   ],
   "source": [
    "products.select(\"PRODUCT_NAME\",call_udf('to_lowercase',col('PRODUCT_NAME')).as_('PRODUCT_NAME_LOWERCASE')).show()"
   ]
  },
  {
   "attachments": {},
   "cell_type": "markdown",
   "id": "83ff36de",
   "metadata": {},
   "source": [
    "### Write Transformed Data into Snowflake Table"
   ]
  },
  {
   "cell_type": "code",
   "execution_count": 31,
   "id": "ef280fba",
   "metadata": {},
   "outputs": [],
   "source": [
    "sf_basket.write.mode('overwrite').save_as_table('insta_basket')"
   ]
  },
  {
   "attachments": {},
   "cell_type": "markdown",
   "id": "9c258598",
   "metadata": {},
   "source": [
    "### Visualize Data using Pandas DataFrames"
   ]
  },
  {
   "attachments": {},
   "cell_type": "markdown",
   "id": "bac7e50c",
   "metadata": {},
   "source": [
    "*NOTE: Data can be easily loaded from Snowpark DataFrames into Pandas DataFrames for visualizing the data.*"
   ]
  },
  {
   "cell_type": "code",
   "execution_count": 8,
   "id": "067fbd09",
   "metadata": {},
   "outputs": [
    {
     "data": {
      "text/html": [
       "\n",
       "<div id=\"altair-viz-92711db01dfe47d886ea5125a2ad4b26\"></div>\n",
       "<script type=\"text/javascript\">\n",
       "  var VEGA_DEBUG = (typeof VEGA_DEBUG == \"undefined\") ? {} : VEGA_DEBUG;\n",
       "  (function(spec, embedOpt){\n",
       "    let outputDiv = document.currentScript.previousElementSibling;\n",
       "    if (outputDiv.id !== \"altair-viz-92711db01dfe47d886ea5125a2ad4b26\") {\n",
       "      outputDiv = document.getElementById(\"altair-viz-92711db01dfe47d886ea5125a2ad4b26\");\n",
       "    }\n",
       "    const paths = {\n",
       "      \"vega\": \"https://cdn.jsdelivr.net/npm//vega@5?noext\",\n",
       "      \"vega-lib\": \"https://cdn.jsdelivr.net/npm//vega-lib?noext\",\n",
       "      \"vega-lite\": \"https://cdn.jsdelivr.net/npm//vega-lite@4.17.0?noext\",\n",
       "      \"vega-embed\": \"https://cdn.jsdelivr.net/npm//vega-embed@6?noext\",\n",
       "    };\n",
       "\n",
       "    function maybeLoadScript(lib, version) {\n",
       "      var key = `${lib.replace(\"-\", \"\")}_version`;\n",
       "      return (VEGA_DEBUG[key] == version) ?\n",
       "        Promise.resolve(paths[lib]) :\n",
       "        new Promise(function(resolve, reject) {\n",
       "          var s = document.createElement('script');\n",
       "          document.getElementsByTagName(\"head\")[0].appendChild(s);\n",
       "          s.async = true;\n",
       "          s.onload = () => {\n",
       "            VEGA_DEBUG[key] = version;\n",
       "            return resolve(paths[lib]);\n",
       "          };\n",
       "          s.onerror = () => reject(`Error loading script: ${paths[lib]}`);\n",
       "          s.src = paths[lib];\n",
       "        });\n",
       "    }\n",
       "\n",
       "    function showError(err) {\n",
       "      outputDiv.innerHTML = `<div class=\"error\" style=\"color:red;\">${err}</div>`;\n",
       "      throw err;\n",
       "    }\n",
       "\n",
       "    function displayChart(vegaEmbed) {\n",
       "      vegaEmbed(outputDiv, spec, embedOpt)\n",
       "        .catch(err => showError(`Javascript Error: ${err.message}<br>This usually means there's a typo in your chart specification. See the javascript console for the full traceback.`));\n",
       "    }\n",
       "\n",
       "    if(typeof define === \"function\" && define.amd) {\n",
       "      requirejs.config({paths});\n",
       "      require([\"vega-embed\"], displayChart, err => showError(`Error loading script: ${err.message}`));\n",
       "    } else {\n",
       "      maybeLoadScript(\"vega\", \"5\")\n",
       "        .then(() => maybeLoadScript(\"vega-lite\", \"4.17.0\"))\n",
       "        .then(() => maybeLoadScript(\"vega-embed\", \"6\"))\n",
       "        .catch(showError)\n",
       "        .then(() => displayChart(vegaEmbed));\n",
       "    }\n",
       "  })({\"config\": {\"view\": {\"continuousWidth\": 400, \"continuousHeight\": 300}, \"title\": {\"fontSize\": 24}}, \"data\": {\"name\": \"data-873530aed22319cceaf5cae92dadacff\"}, \"mark\": {\"type\": \"bar\", \"color\": \"#29b5e8\"}, \"encoding\": {\"x\": {\"field\": \"DOW\", \"sort\": [\"Sunday\", \"Monday\", \"Tuesday\", \"Wednesday\", \"Thursday\", \"Friday\", \"Saturday\"], \"type\": \"ordinal\"}, \"y\": {\"field\": \"TOTAL_ORDERS\", \"type\": \"quantitative\"}}, \"height\": 500, \"title\": \"Busiest Day Of The Week\", \"width\": 1550, \"$schema\": \"https://vega.github.io/schema/vega-lite/v4.17.0.json\", \"datasets\": {\"data-873530aed22319cceaf5cae92dadacff\": [{\"DOW\": \"Sunday\", \"TOTAL_ORDERS\": 600905}, {\"DOW\": \"Monday\", \"TOTAL_ORDERS\": 587478}, {\"DOW\": \"Tuesday\", \"TOTAL_ORDERS\": 467260}, {\"DOW\": \"Friday\", \"TOTAL_ORDERS\": 453368}, {\"DOW\": \"Saturday\", \"TOTAL_ORDERS\": 448761}, {\"DOW\": \"Wednesday\", \"TOTAL_ORDERS\": 436972}, {\"DOW\": \"Thursday\", \"TOTAL_ORDERS\": 426339}]}}, {\"mode\": \"vega-lite\"});\n",
       "</script>"
      ],
      "text/plain": [
       "alt.Chart(...)"
      ]
     },
     "execution_count": 8,
     "metadata": {},
     "output_type": "execute_result"
    }
   ],
   "source": [
    "pd_busiest_dow = sf_busiest_dow.to_pandas()\n",
    "alt.Chart(pd_busiest_dow, title=\"Busiest Day Of The Week\").mark_bar(color=\"#29b5e8\").encode(\n",
    "    x = alt.X(\"DOW:O\",sort=['Sunday','Monday','Tuesday','Wednesday','Thursday','Friday','Saturday']),\n",
    "    y = \"TOTAL_ORDERS:Q\"\n",
    ").properties(\n",
    "    width=1550,\n",
    "    height=500\n",
    ").configure_title(fontSize=24)"
   ]
  },
  {
   "cell_type": "code",
   "execution_count": 9,
   "id": "13718e80",
   "metadata": {},
   "outputs": [
    {
     "data": {
      "text/html": [
       "\n",
       "<div id=\"altair-viz-bfd79736055b4ac9b6aeb9413fba6fd8\"></div>\n",
       "<script type=\"text/javascript\">\n",
       "  var VEGA_DEBUG = (typeof VEGA_DEBUG == \"undefined\") ? {} : VEGA_DEBUG;\n",
       "  (function(spec, embedOpt){\n",
       "    let outputDiv = document.currentScript.previousElementSibling;\n",
       "    if (outputDiv.id !== \"altair-viz-bfd79736055b4ac9b6aeb9413fba6fd8\") {\n",
       "      outputDiv = document.getElementById(\"altair-viz-bfd79736055b4ac9b6aeb9413fba6fd8\");\n",
       "    }\n",
       "    const paths = {\n",
       "      \"vega\": \"https://cdn.jsdelivr.net/npm//vega@5?noext\",\n",
       "      \"vega-lib\": \"https://cdn.jsdelivr.net/npm//vega-lib?noext\",\n",
       "      \"vega-lite\": \"https://cdn.jsdelivr.net/npm//vega-lite@4.17.0?noext\",\n",
       "      \"vega-embed\": \"https://cdn.jsdelivr.net/npm//vega-embed@6?noext\",\n",
       "    };\n",
       "\n",
       "    function maybeLoadScript(lib, version) {\n",
       "      var key = `${lib.replace(\"-\", \"\")}_version`;\n",
       "      return (VEGA_DEBUG[key] == version) ?\n",
       "        Promise.resolve(paths[lib]) :\n",
       "        new Promise(function(resolve, reject) {\n",
       "          var s = document.createElement('script');\n",
       "          document.getElementsByTagName(\"head\")[0].appendChild(s);\n",
       "          s.async = true;\n",
       "          s.onload = () => {\n",
       "            VEGA_DEBUG[key] = version;\n",
       "            return resolve(paths[lib]);\n",
       "          };\n",
       "          s.onerror = () => reject(`Error loading script: ${paths[lib]}`);\n",
       "          s.src = paths[lib];\n",
       "        });\n",
       "    }\n",
       "\n",
       "    function showError(err) {\n",
       "      outputDiv.innerHTML = `<div class=\"error\" style=\"color:red;\">${err}</div>`;\n",
       "      throw err;\n",
       "    }\n",
       "\n",
       "    function displayChart(vegaEmbed) {\n",
       "      vegaEmbed(outputDiv, spec, embedOpt)\n",
       "        .catch(err => showError(`Javascript Error: ${err.message}<br>This usually means there's a typo in your chart specification. See the javascript console for the full traceback.`));\n",
       "    }\n",
       "\n",
       "    if(typeof define === \"function\" && define.amd) {\n",
       "      requirejs.config({paths});\n",
       "      require([\"vega-embed\"], displayChart, err => showError(`Error loading script: ${err.message}`));\n",
       "    } else {\n",
       "      maybeLoadScript(\"vega\", \"5\")\n",
       "        .then(() => maybeLoadScript(\"vega-lite\", \"4.17.0\"))\n",
       "        .then(() => maybeLoadScript(\"vega-embed\", \"6\"))\n",
       "        .catch(showError)\n",
       "        .then(() => displayChart(vegaEmbed));\n",
       "    }\n",
       "  })({\"config\": {\"view\": {\"continuousWidth\": 400, \"continuousHeight\": 300}, \"title\": {\"fontSize\": 24}}, \"data\": {\"name\": \"data-3a0472ed5cfe8619b31833fbf7bae6f2\"}, \"mark\": {\"type\": \"bar\", \"color\": \"#29b5e8\"}, \"encoding\": {\"x\": {\"field\": \"PRODUCT_NAME\", \"sort\": null, \"type\": \"ordinal\"}, \"y\": {\"field\": \"TOTAL_ORDERS\", \"type\": \"quantitative\"}}, \"height\": 500, \"title\": \"Top 10 Popular Items\", \"width\": 1550, \"$schema\": \"https://vega.github.io/schema/vega-lite/v4.17.0.json\", \"datasets\": {\"data-3a0472ed5cfe8619b31833fbf7bae6f2\": [{\"PRODUCT_NAME\": \"Banana\", \"TOTAL_ORDERS\": 472565}, {\"PRODUCT_NAME\": \"Bag of Organic Bananas\", \"TOTAL_ORDERS\": 379450}, {\"PRODUCT_NAME\": \"Organic Strawberries\", \"TOTAL_ORDERS\": 264683}, {\"PRODUCT_NAME\": \"Organic Baby Spinach\", \"TOTAL_ORDERS\": 241921}, {\"PRODUCT_NAME\": \"Organic Hass Avocado\", \"TOTAL_ORDERS\": 213584}, {\"PRODUCT_NAME\": \"Organic Avocado\", \"TOTAL_ORDERS\": 176815}, {\"PRODUCT_NAME\": \"Large Lemon\", \"TOTAL_ORDERS\": 152657}, {\"PRODUCT_NAME\": \"Strawberries\", \"TOTAL_ORDERS\": 142951}, {\"PRODUCT_NAME\": \"Limes\", \"TOTAL_ORDERS\": 140627}, {\"PRODUCT_NAME\": \"Organic Whole Milk\", \"TOTAL_ORDERS\": 137905}]}}, {\"mode\": \"vega-lite\"});\n",
       "</script>"
      ],
      "text/plain": [
       "alt.Chart(...)"
      ]
     },
     "execution_count": 9,
     "metadata": {},
     "output_type": "execute_result"
    }
   ],
   "source": [
    "pd_top_10_items = sf_top_10_items.to_pandas()\n",
    "alt.Chart(pd_top_10_items, title=\"Top 10 Popular Items\").mark_bar(color=\"#29b5e8\").encode(\n",
    "    x = alt.X(\"PRODUCT_NAME:O\",sort=None),\n",
    "    y = \"TOTAL_ORDERS:Q\"\n",
    ").properties(\n",
    "    width=1550,\n",
    "    height=500\n",
    ").configure_title(fontSize=24)"
   ]
  },
  {
   "cell_type": "code",
   "execution_count": 11,
   "id": "c60a3fde",
   "metadata": {},
   "outputs": [
    {
     "data": {
      "text/html": [
       "\n",
       "<div id=\"altair-viz-ece16c5f0ea14a02a2e3a030f6c1e2d4\"></div>\n",
       "<script type=\"text/javascript\">\n",
       "  var VEGA_DEBUG = (typeof VEGA_DEBUG == \"undefined\") ? {} : VEGA_DEBUG;\n",
       "  (function(spec, embedOpt){\n",
       "    let outputDiv = document.currentScript.previousElementSibling;\n",
       "    if (outputDiv.id !== \"altair-viz-ece16c5f0ea14a02a2e3a030f6c1e2d4\") {\n",
       "      outputDiv = document.getElementById(\"altair-viz-ece16c5f0ea14a02a2e3a030f6c1e2d4\");\n",
       "    }\n",
       "    const paths = {\n",
       "      \"vega\": \"https://cdn.jsdelivr.net/npm//vega@5?noext\",\n",
       "      \"vega-lib\": \"https://cdn.jsdelivr.net/npm//vega-lib?noext\",\n",
       "      \"vega-lite\": \"https://cdn.jsdelivr.net/npm//vega-lite@4.17.0?noext\",\n",
       "      \"vega-embed\": \"https://cdn.jsdelivr.net/npm//vega-embed@6?noext\",\n",
       "    };\n",
       "\n",
       "    function maybeLoadScript(lib, version) {\n",
       "      var key = `${lib.replace(\"-\", \"\")}_version`;\n",
       "      return (VEGA_DEBUG[key] == version) ?\n",
       "        Promise.resolve(paths[lib]) :\n",
       "        new Promise(function(resolve, reject) {\n",
       "          var s = document.createElement('script');\n",
       "          document.getElementsByTagName(\"head\")[0].appendChild(s);\n",
       "          s.async = true;\n",
       "          s.onload = () => {\n",
       "            VEGA_DEBUG[key] = version;\n",
       "            return resolve(paths[lib]);\n",
       "          };\n",
       "          s.onerror = () => reject(`Error loading script: ${paths[lib]}`);\n",
       "          s.src = paths[lib];\n",
       "        });\n",
       "    }\n",
       "\n",
       "    function showError(err) {\n",
       "      outputDiv.innerHTML = `<div class=\"error\" style=\"color:red;\">${err}</div>`;\n",
       "      throw err;\n",
       "    }\n",
       "\n",
       "    function displayChart(vegaEmbed) {\n",
       "      vegaEmbed(outputDiv, spec, embedOpt)\n",
       "        .catch(err => showError(`Javascript Error: ${err.message}<br>This usually means there's a typo in your chart specification. See the javascript console for the full traceback.`));\n",
       "    }\n",
       "\n",
       "    if(typeof define === \"function\" && define.amd) {\n",
       "      requirejs.config({paths});\n",
       "      require([\"vega-embed\"], displayChart, err => showError(`Error loading script: ${err.message}`));\n",
       "    } else {\n",
       "      maybeLoadScript(\"vega\", \"5\")\n",
       "        .then(() => maybeLoadScript(\"vega-lite\", \"4.17.0\"))\n",
       "        .then(() => maybeLoadScript(\"vega-embed\", \"6\"))\n",
       "        .catch(showError)\n",
       "        .then(() => displayChart(vegaEmbed));\n",
       "    }\n",
       "  })({\"config\": {\"view\": {\"continuousWidth\": 400, \"continuousHeight\": 300}, \"title\": {\"fontSize\": 24}}, \"data\": {\"name\": \"data-b2f6013973c461bc77f4576f550821e8\"}, \"mark\": {\"type\": \"line\", \"color\": \"#29b5e8\"}, \"encoding\": {\"x\": {\"field\": \"ORDER_HOUR_OF_DAY\", \"sort\": null, \"type\": \"nominal\"}, \"y\": {\"field\": \"TOTAL_ORDERS\", \"type\": \"quantitative\"}}, \"height\": 500, \"title\": \"Orders By Hour\", \"width\": 1550, \"$schema\": \"https://vega.github.io/schema/vega-lite/v4.17.0.json\", \"datasets\": {\"data-b2f6013973c461bc77f4576f550821e8\": [{\"ORDER_HOUR_OF_DAY\": \"00\", \"TOTAL_ORDERS\": 22758}, {\"ORDER_HOUR_OF_DAY\": \"01\", \"TOTAL_ORDERS\": 12398}, {\"ORDER_HOUR_OF_DAY\": \"02\", \"TOTAL_ORDERS\": 7539}, {\"ORDER_HOUR_OF_DAY\": \"03\", \"TOTAL_ORDERS\": 5474}, {\"ORDER_HOUR_OF_DAY\": \"04\", \"TOTAL_ORDERS\": 5527}, {\"ORDER_HOUR_OF_DAY\": \"05\", \"TOTAL_ORDERS\": 9569}, {\"ORDER_HOUR_OF_DAY\": \"06\", \"TOTAL_ORDERS\": 30529}, {\"ORDER_HOUR_OF_DAY\": \"07\", \"TOTAL_ORDERS\": 91868}, {\"ORDER_HOUR_OF_DAY\": \"08\", \"TOTAL_ORDERS\": 178201}, {\"ORDER_HOUR_OF_DAY\": \"09\", \"TOTAL_ORDERS\": 257812}, {\"ORDER_HOUR_OF_DAY\": \"10\", \"TOTAL_ORDERS\": 288418}, {\"ORDER_HOUR_OF_DAY\": \"11\", \"TOTAL_ORDERS\": 284728}, {\"ORDER_HOUR_OF_DAY\": \"12\", \"TOTAL_ORDERS\": 272841}, {\"ORDER_HOUR_OF_DAY\": \"13\", \"TOTAL_ORDERS\": 277999}, {\"ORDER_HOUR_OF_DAY\": \"14\", \"TOTAL_ORDERS\": 283042}, {\"ORDER_HOUR_OF_DAY\": \"15\", \"TOTAL_ORDERS\": 283639}, {\"ORDER_HOUR_OF_DAY\": \"16\", \"TOTAL_ORDERS\": 272553}, {\"ORDER_HOUR_OF_DAY\": \"17\", \"TOTAL_ORDERS\": 228795}, {\"ORDER_HOUR_OF_DAY\": \"18\", \"TOTAL_ORDERS\": 182912}, {\"ORDER_HOUR_OF_DAY\": \"19\", \"TOTAL_ORDERS\": 140569}, {\"ORDER_HOUR_OF_DAY\": \"20\", \"TOTAL_ORDERS\": 104292}, {\"ORDER_HOUR_OF_DAY\": \"21\", \"TOTAL_ORDERS\": 78109}, {\"ORDER_HOUR_OF_DAY\": \"22\", \"TOTAL_ORDERS\": 61468}, {\"ORDER_HOUR_OF_DAY\": \"23\", \"TOTAL_ORDERS\": 40043}]}}, {\"mode\": \"vega-lite\"});\n",
       "</script>"
      ],
      "text/plain": [
       "alt.Chart(...)"
      ]
     },
     "execution_count": 11,
     "metadata": {},
     "output_type": "execute_result"
    }
   ],
   "source": [
    "pd_orders_by_hour = sf_orders_by_hour.to_pandas()\n",
    "alt.Chart(pd_orders_by_hour, title=\"Orders By Hour\").mark_line(color=\"#29b5e8\").encode(\n",
    "    x = alt.X(\"ORDER_HOUR_OF_DAY\",sort=None),\n",
    "    y = \"TOTAL_ORDERS:Q\"\n",
    ").properties(\n",
    "    width=1550,\n",
    "    height=500\n",
    ").configure_title(fontSize=24)"
   ]
  },
  {
   "cell_type": "code",
   "execution_count": 57,
   "id": "77ef3db6",
   "metadata": {},
   "outputs": [
    {
     "data": {
      "text/html": [
       "\n",
       "<div id=\"altair-viz-ac3ea7f59ffe4fd8991aeb8296d2389d\"></div>\n",
       "<script type=\"text/javascript\">\n",
       "  var VEGA_DEBUG = (typeof VEGA_DEBUG == \"undefined\") ? {} : VEGA_DEBUG;\n",
       "  (function(spec, embedOpt){\n",
       "    let outputDiv = document.currentScript.previousElementSibling;\n",
       "    if (outputDiv.id !== \"altair-viz-ac3ea7f59ffe4fd8991aeb8296d2389d\") {\n",
       "      outputDiv = document.getElementById(\"altair-viz-ac3ea7f59ffe4fd8991aeb8296d2389d\");\n",
       "    }\n",
       "    const paths = {\n",
       "      \"vega\": \"https://cdn.jsdelivr.net/npm//vega@5?noext\",\n",
       "      \"vega-lib\": \"https://cdn.jsdelivr.net/npm//vega-lib?noext\",\n",
       "      \"vega-lite\": \"https://cdn.jsdelivr.net/npm//vega-lite@4.17.0?noext\",\n",
       "      \"vega-embed\": \"https://cdn.jsdelivr.net/npm//vega-embed@6?noext\",\n",
       "    };\n",
       "\n",
       "    function maybeLoadScript(lib, version) {\n",
       "      var key = `${lib.replace(\"-\", \"\")}_version`;\n",
       "      return (VEGA_DEBUG[key] == version) ?\n",
       "        Promise.resolve(paths[lib]) :\n",
       "        new Promise(function(resolve, reject) {\n",
       "          var s = document.createElement('script');\n",
       "          document.getElementsByTagName(\"head\")[0].appendChild(s);\n",
       "          s.async = true;\n",
       "          s.onload = () => {\n",
       "            VEGA_DEBUG[key] = version;\n",
       "            return resolve(paths[lib]);\n",
       "          };\n",
       "          s.onerror = () => reject(`Error loading script: ${paths[lib]}`);\n",
       "          s.src = paths[lib];\n",
       "        });\n",
       "    }\n",
       "\n",
       "    function showError(err) {\n",
       "      outputDiv.innerHTML = `<div class=\"error\" style=\"color:red;\">${err}</div>`;\n",
       "      throw err;\n",
       "    }\n",
       "\n",
       "    function displayChart(vegaEmbed) {\n",
       "      vegaEmbed(outputDiv, spec, embedOpt)\n",
       "        .catch(err => showError(`Javascript Error: ${err.message}<br>This usually means there's a typo in your chart specification. See the javascript console for the full traceback.`));\n",
       "    }\n",
       "\n",
       "    if(typeof define === \"function\" && define.amd) {\n",
       "      requirejs.config({paths});\n",
       "      require([\"vega-embed\"], displayChart, err => showError(`Error loading script: ${err.message}`));\n",
       "    } else {\n",
       "      maybeLoadScript(\"vega\", \"5\")\n",
       "        .then(() => maybeLoadScript(\"vega-lite\", \"4.17.0\"))\n",
       "        .then(() => maybeLoadScript(\"vega-embed\", \"6\"))\n",
       "        .catch(showError)\n",
       "        .then(() => displayChart(vegaEmbed));\n",
       "    }\n",
       "  })({\"config\": {\"view\": {\"continuousWidth\": 400, \"continuousHeight\": 300}, \"title\": {\"fontSize\": 24}}, \"layer\": [{\"mark\": {\"type\": \"arc\", \"outerRadius\": 200}, \"encoding\": {\"color\": {\"field\": \"DEPARTMENT\", \"type\": \"nominal\"}, \"theta\": {\"field\": \"TOTAL_DISTINCT_PRODUCTS\", \"stack\": true, \"type\": \"quantitative\"}}, \"height\": 500, \"title\": \"Top 10 Shelf Space By Department\", \"width\": 1550}, {\"mark\": {\"type\": \"text\", \"radius\": 255, \"size\": 15}, \"encoding\": {\"color\": {\"field\": \"DEPARTMENT\", \"type\": \"nominal\"}, \"text\": {\"field\": \"DEPARTMENT\", \"type\": \"nominal\"}, \"theta\": {\"field\": \"TOTAL_DISTINCT_PRODUCTS\", \"stack\": true, \"type\": \"quantitative\"}}, \"height\": 500, \"title\": \"Top 10 Shelf Space By Department\", \"width\": 1550}], \"data\": {\"name\": \"data-6704bd3b1fee340158e1a6055baf58db\"}, \"$schema\": \"https://vega.github.io/schema/vega-lite/v4.17.0.json\", \"datasets\": {\"data-6704bd3b1fee340158e1a6055baf58db\": [{\"DEPARTMENT\": \"personal care\", \"TOTAL_DISTINCT_PRODUCTS\": 6563}, {\"DEPARTMENT\": \"snacks\", \"TOTAL_DISTINCT_PRODUCTS\": 6264}, {\"DEPARTMENT\": \"pantry\", \"TOTAL_DISTINCT_PRODUCTS\": 5371}, {\"DEPARTMENT\": \"beverages\", \"TOTAL_DISTINCT_PRODUCTS\": 4365}, {\"DEPARTMENT\": \"frozen\", \"TOTAL_DISTINCT_PRODUCTS\": 4007}, {\"DEPARTMENT\": \"dairy eggs\", \"TOTAL_DISTINCT_PRODUCTS\": 3449}, {\"DEPARTMENT\": \"household\", \"TOTAL_DISTINCT_PRODUCTS\": 3085}, {\"DEPARTMENT\": \"canned goods\", \"TOTAL_DISTINCT_PRODUCTS\": 2092}, {\"DEPARTMENT\": \"dry goods pasta\", \"TOTAL_DISTINCT_PRODUCTS\": 1858}, {\"DEPARTMENT\": \"produce\", \"TOTAL_DISTINCT_PRODUCTS\": 1684}]}}, {\"mode\": \"vega-lite\"});\n",
       "</script>"
      ],
      "text/plain": [
       "alt.LayerChart(...)"
      ]
     },
     "execution_count": 57,
     "metadata": {},
     "output_type": "execute_result"
    }
   ],
   "source": [
    "pd_shelf_space_by_dept = sf_shelf_space_by_dept.to_pandas()\n",
    "base = alt.Chart(pd_shelf_space_by_dept, title=\"Top 10 Shelf Space By Department\").mark_arc(outerRadius=200).encode(\n",
    "    theta=alt.Theta(\"TOTAL_DISTINCT_PRODUCTS:Q\", stack=True), color=alt.Color(\"DEPARTMENT:N\")\n",
    ").properties(\n",
    "    width=1550,\n",
    "    height=500\n",
    ")\n",
    "text = base.mark_text(radius=255, size=15).encode(text=\"DEPARTMENT:N\")\n",
    "(base + text).configure_title(fontSize=24)"
   ]
  },
  {
   "cell_type": "code",
   "execution_count": null,
   "id": "9546b7b6",
   "metadata": {},
   "outputs": [],
   "source": []
  }
 ],
 "metadata": {
  "kernelspec": {
   "display_name": "snowpark",
   "language": "python",
   "name": "python3"
  },
  "language_info": {
   "codemirror_mode": {
    "name": "ipython",
    "version": 3
   },
   "file_extension": ".py",
   "mimetype": "text/x-python",
   "name": "python",
   "nbconvert_exporter": "python",
   "pygments_lexer": "ipython3",
   "version": "3.8.15"
  },
  "vscode": {
   "interpreter": {
    "hash": "4fb0a37530c0004d75c43dbcefc0b8b6ea2fdc6f87c96f7fd6f8cf43b3f551c7"
   }
  }
 },
 "nbformat": 4,
 "nbformat_minor": 5
}
